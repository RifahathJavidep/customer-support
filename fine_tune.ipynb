{
 "cells": [
  {
   "cell_type": "code",
   "execution_count": null,
   "metadata": {},
   "outputs": [
    {
     "name": "stdout",
     "output_type": "stream",
     "text": [
      "Requirement already satisfied: predibase in ./venv/lib/python3.12/site-packages (2025.4.1)\n",
      "Requirement already satisfied: dataclasses-json==0.5.7 in ./venv/lib/python3.12/site-packages (from predibase) (0.5.7)\n",
      "Requirement already satisfied: deprecation in ./venv/lib/python3.12/site-packages (from predibase) (2.1.0)\n",
      "Requirement already satisfied: ipyplot in ./venv/lib/python3.12/site-packages (from predibase) (1.1.2)\n",
      "Requirement already satisfied: ipython!=8.13.0 in ./venv/lib/python3.12/site-packages (from predibase) (9.2.0)\n",
      "Requirement already satisfied: pandas in ./venv/lib/python3.12/site-packages (from predibase) (2.2.3)\n",
      "Requirement already satisfied: predibase-api==2025.4.1 in ./venv/lib/python3.12/site-packages (from predibase) (2025.4.1)\n",
      "Requirement already satisfied: progress-table==0.1.26 in ./venv/lib/python3.12/site-packages (from predibase) (0.1.26)\n",
      "Requirement already satisfied: protobuf in ./venv/lib/python3.12/site-packages (from predibase) (6.30.2)\n",
      "Requirement already satisfied: pyarrow in ./venv/lib/python3.12/site-packages (from predibase) (20.0.0)\n",
      "Requirement already satisfied: pydantic>=2.0 in ./venv/lib/python3.12/site-packages (from predibase) (2.11.4)\n",
      "Requirement already satisfied: pyjwt in ./venv/lib/python3.12/site-packages (from predibase) (2.10.1)\n",
      "Requirement already satisfied: python-dateutil in ./venv/lib/python3.12/site-packages (from predibase) (2.9.0.post0)\n",
      "Requirement already satisfied: pyyaml in ./venv/lib/python3.12/site-packages (from predibase) (6.0.2)\n",
      "Requirement already satisfied: requests in ./venv/lib/python3.12/site-packages (from predibase) (2.32.3)\n",
      "Requirement already satisfied: rich in ./venv/lib/python3.12/site-packages (from predibase) (14.0.0)\n",
      "Requirement already satisfied: semantic-version in ./venv/lib/python3.12/site-packages (from predibase) (2.10.0)\n",
      "Requirement already satisfied: tabulate in ./venv/lib/python3.12/site-packages (from predibase) (0.9.0)\n",
      "Requirement already satisfied: tensorboard in ./venv/lib/python3.12/site-packages (from predibase) (2.19.0)\n",
      "Requirement already satisfied: tqdm in ./venv/lib/python3.12/site-packages (from predibase) (4.67.1)\n",
      "Requirement already satisfied: tritonclient in ./venv/lib/python3.12/site-packages (from predibase) (2.56.0)\n",
      "Requirement already satisfied: typer[all] in ./venv/lib/python3.12/site-packages (from predibase) (0.15.3)\n",
      "Requirement already satisfied: urllib3>=1.26.12 in ./venv/lib/python3.12/site-packages (from predibase) (2.4.0)\n",
      "Requirement already satisfied: websockets>=11.0.3 in ./venv/lib/python3.12/site-packages (from predibase) (15.0.1)\n",
      "Requirement already satisfied: lorax-client>=0.6.1 in ./venv/lib/python3.12/site-packages (from predibase) (0.6.3)\n",
      "Requirement already satisfied: eval-type-backport in ./venv/lib/python3.12/site-packages (from predibase) (0.2.2)\n",
      "Requirement already satisfied: openai in ./venv/lib/python3.12/site-packages (from predibase) (1.77.0)\n",
      "Requirement already satisfied: retry in ./venv/lib/python3.12/site-packages (from predibase) (0.9.2)\n",
      "Requirement already satisfied: marshmallow<4.0.0,>=3.3.0 in ./venv/lib/python3.12/site-packages (from dataclasses-json==0.5.7->predibase) (3.26.1)\n",
      "Requirement already satisfied: marshmallow-enum<2.0.0,>=1.5.1 in ./venv/lib/python3.12/site-packages (from dataclasses-json==0.5.7->predibase) (1.5.1)\n",
      "Requirement already satisfied: typing-inspect>=0.4.0 in ./venv/lib/python3.12/site-packages (from dataclasses-json==0.5.7->predibase) (0.9.0)\n",
      "Requirement already satisfied: colorama in ./venv/lib/python3.12/site-packages (from progress-table==0.1.26->predibase) (0.4.6)\n",
      "Requirement already satisfied: packaging>=17.0 in ./venv/lib/python3.12/site-packages (from marshmallow<4.0.0,>=3.3.0->dataclasses-json==0.5.7->predibase) (25.0)\n",
      "Requirement already satisfied: decorator in ./venv/lib/python3.12/site-packages (from ipython!=8.13.0->predibase) (5.2.1)\n",
      "Requirement already satisfied: ipython-pygments-lexers in ./venv/lib/python3.12/site-packages (from ipython!=8.13.0->predibase) (1.1.1)\n",
      "Requirement already satisfied: jedi>=0.16 in ./venv/lib/python3.12/site-packages (from ipython!=8.13.0->predibase) (0.19.2)\n",
      "Requirement already satisfied: matplotlib-inline in ./venv/lib/python3.12/site-packages (from ipython!=8.13.0->predibase) (0.1.7)\n",
      "Requirement already satisfied: pexpect>4.3 in ./venv/lib/python3.12/site-packages (from ipython!=8.13.0->predibase) (4.9.0)\n",
      "Requirement already satisfied: prompt_toolkit<3.1.0,>=3.0.41 in ./venv/lib/python3.12/site-packages (from ipython!=8.13.0->predibase) (3.0.51)\n",
      "Requirement already satisfied: pygments>=2.4.0 in ./venv/lib/python3.12/site-packages (from ipython!=8.13.0->predibase) (2.19.1)\n",
      "Requirement already satisfied: stack_data in ./venv/lib/python3.12/site-packages (from ipython!=8.13.0->predibase) (0.6.3)\n",
      "Requirement already satisfied: traitlets>=5.13.0 in ./venv/lib/python3.12/site-packages (from ipython!=8.13.0->predibase) (5.14.3)\n",
      "Requirement already satisfied: wcwidth in ./venv/lib/python3.12/site-packages (from prompt_toolkit<3.1.0,>=3.0.41->ipython!=8.13.0->predibase) (0.2.13)\n",
      "Requirement already satisfied: parso<0.9.0,>=0.8.4 in ./venv/lib/python3.12/site-packages (from jedi>=0.16->ipython!=8.13.0->predibase) (0.8.4)\n",
      "Requirement already satisfied: aiohttp<4.0,>=3.9 in ./venv/lib/python3.12/site-packages (from lorax-client>=0.6.1->predibase) (3.11.18)\n",
      "Requirement already satisfied: certifi==2024.7.4 in ./venv/lib/python3.12/site-packages (from lorax-client>=0.6.1->predibase) (2024.7.4)\n",
      "Requirement already satisfied: huggingface-hub<1.0,>=0.12 in ./venv/lib/python3.12/site-packages (from lorax-client>=0.6.1->predibase) (0.30.2)\n",
      "Requirement already satisfied: aiohappyeyeballs>=2.3.0 in ./venv/lib/python3.12/site-packages (from aiohttp<4.0,>=3.9->lorax-client>=0.6.1->predibase) (2.6.1)\n",
      "Requirement already satisfied: aiosignal>=1.1.2 in ./venv/lib/python3.12/site-packages (from aiohttp<4.0,>=3.9->lorax-client>=0.6.1->predibase) (1.3.2)\n",
      "Requirement already satisfied: attrs>=17.3.0 in ./venv/lib/python3.12/site-packages (from aiohttp<4.0,>=3.9->lorax-client>=0.6.1->predibase) (25.3.0)\n",
      "Requirement already satisfied: frozenlist>=1.1.1 in ./venv/lib/python3.12/site-packages (from aiohttp<4.0,>=3.9->lorax-client>=0.6.1->predibase) (1.6.0)\n",
      "Requirement already satisfied: multidict<7.0,>=4.5 in ./venv/lib/python3.12/site-packages (from aiohttp<4.0,>=3.9->lorax-client>=0.6.1->predibase) (6.4.3)\n",
      "Requirement already satisfied: propcache>=0.2.0 in ./venv/lib/python3.12/site-packages (from aiohttp<4.0,>=3.9->lorax-client>=0.6.1->predibase) (0.3.1)\n",
      "Requirement already satisfied: yarl<2.0,>=1.17.0 in ./venv/lib/python3.12/site-packages (from aiohttp<4.0,>=3.9->lorax-client>=0.6.1->predibase) (1.20.0)\n",
      "Requirement already satisfied: filelock in ./venv/lib/python3.12/site-packages (from huggingface-hub<1.0,>=0.12->lorax-client>=0.6.1->predibase) (3.18.0)\n",
      "Requirement already satisfied: fsspec>=2023.5.0 in ./venv/lib/python3.12/site-packages (from huggingface-hub<1.0,>=0.12->lorax-client>=0.6.1->predibase) (2025.3.0)\n",
      "Requirement already satisfied: typing-extensions>=3.7.4.3 in ./venv/lib/python3.12/site-packages (from huggingface-hub<1.0,>=0.12->lorax-client>=0.6.1->predibase) (4.13.2)\n",
      "Requirement already satisfied: annotated-types>=0.6.0 in ./venv/lib/python3.12/site-packages (from pydantic>=2.0->predibase) (0.7.0)\n",
      "Requirement already satisfied: pydantic-core==2.33.2 in ./venv/lib/python3.12/site-packages (from pydantic>=2.0->predibase) (2.33.2)\n",
      "Requirement already satisfied: typing-inspection>=0.4.0 in ./venv/lib/python3.12/site-packages (from pydantic>=2.0->predibase) (0.4.0)\n",
      "Requirement already satisfied: idna>=2.0 in ./venv/lib/python3.12/site-packages (from yarl<2.0,>=1.17.0->aiohttp<4.0,>=3.9->lorax-client>=0.6.1->predibase) (3.10)\n",
      "Requirement already satisfied: ptyprocess>=0.5 in ./venv/lib/python3.12/site-packages (from pexpect>4.3->ipython!=8.13.0->predibase) (0.7.0)\n",
      "Requirement already satisfied: mypy-extensions>=0.3.0 in ./venv/lib/python3.12/site-packages (from typing-inspect>=0.4.0->dataclasses-json==0.5.7->predibase) (1.1.0)\n",
      "Requirement already satisfied: numpy in ./venv/lib/python3.12/site-packages (from ipyplot->predibase) (1.26.4)\n",
      "Requirement already satisfied: pillow in ./venv/lib/python3.12/site-packages (from ipyplot->predibase) (11.2.1)\n",
      "Requirement already satisfied: shortuuid in ./venv/lib/python3.12/site-packages (from ipyplot->predibase) (1.0.13)\n",
      "Requirement already satisfied: anyio<5,>=3.5.0 in ./venv/lib/python3.12/site-packages (from openai->predibase) (4.9.0)\n",
      "Requirement already satisfied: distro<2,>=1.7.0 in ./venv/lib/python3.12/site-packages (from openai->predibase) (1.9.0)\n",
      "Requirement already satisfied: httpx<1,>=0.23.0 in ./venv/lib/python3.12/site-packages (from openai->predibase) (0.28.1)\n",
      "Requirement already satisfied: jiter<1,>=0.4.0 in ./venv/lib/python3.12/site-packages (from openai->predibase) (0.9.0)\n",
      "Requirement already satisfied: sniffio in ./venv/lib/python3.12/site-packages (from openai->predibase) (1.3.1)\n",
      "Requirement already satisfied: httpcore==1.* in ./venv/lib/python3.12/site-packages (from httpx<1,>=0.23.0->openai->predibase) (1.0.9)\n",
      "Requirement already satisfied: h11>=0.16 in ./venv/lib/python3.12/site-packages (from httpcore==1.*->httpx<1,>=0.23.0->openai->predibase) (0.16.0)\n",
      "Requirement already satisfied: pytz>=2020.1 in ./venv/lib/python3.12/site-packages (from pandas->predibase) (2025.2)\n",
      "Requirement already satisfied: tzdata>=2022.7 in ./venv/lib/python3.12/site-packages (from pandas->predibase) (2025.2)\n",
      "Requirement already satisfied: six>=1.5 in ./venv/lib/python3.12/site-packages (from python-dateutil->predibase) (1.17.0)\n",
      "Requirement already satisfied: charset-normalizer<4,>=2 in ./venv/lib/python3.12/site-packages (from requests->predibase) (3.4.2)\n",
      "Requirement already satisfied: py<2.0.0,>=1.4.26 in ./venv/lib/python3.12/site-packages (from retry->predibase) (1.11.0)\n",
      "Requirement already satisfied: markdown-it-py>=2.2.0 in ./venv/lib/python3.12/site-packages (from rich->predibase) (3.0.0)\n",
      "Requirement already satisfied: mdurl~=0.1 in ./venv/lib/python3.12/site-packages (from markdown-it-py>=2.2.0->rich->predibase) (0.1.2)\n",
      "Requirement already satisfied: executing>=1.2.0 in ./venv/lib/python3.12/site-packages (from stack_data->ipython!=8.13.0->predibase) (2.2.0)\n",
      "Requirement already satisfied: asttokens>=2.1.0 in ./venv/lib/python3.12/site-packages (from stack_data->ipython!=8.13.0->predibase) (3.0.0)\n",
      "Requirement already satisfied: pure-eval in ./venv/lib/python3.12/site-packages (from stack_data->ipython!=8.13.0->predibase) (0.2.3)\n",
      "Requirement already satisfied: absl-py>=0.4 in ./venv/lib/python3.12/site-packages (from tensorboard->predibase) (2.2.2)\n",
      "Requirement already satisfied: grpcio>=1.48.2 in ./venv/lib/python3.12/site-packages (from tensorboard->predibase) (1.71.0)\n",
      "Requirement already satisfied: markdown>=2.6.8 in ./venv/lib/python3.12/site-packages (from tensorboard->predibase) (3.8)\n",
      "Requirement already satisfied: setuptools>=41.0.0 in ./venv/lib/python3.12/site-packages (from tensorboard->predibase) (78.1.1)\n",
      "Requirement already satisfied: tensorboard-data-server<0.8.0,>=0.7.0 in ./venv/lib/python3.12/site-packages (from tensorboard->predibase) (0.7.2)\n",
      "Requirement already satisfied: werkzeug>=1.0.1 in ./venv/lib/python3.12/site-packages (from tensorboard->predibase) (3.1.3)\n",
      "Requirement already satisfied: MarkupSafe>=2.1.1 in ./venv/lib/python3.12/site-packages (from werkzeug>=1.0.1->tensorboard->predibase) (3.0.2)\n",
      "Requirement already satisfied: python-rapidjson>=0.9.1 in ./venv/lib/python3.12/site-packages (from tritonclient->predibase) (1.20)\n",
      "\u001b[33mWARNING: typer 0.15.3 does not provide the extra 'all'\u001b[0m\u001b[33m\n",
      "\u001b[0mRequirement already satisfied: click>=8.0.0 in ./venv/lib/python3.12/site-packages (from typer[all]->predibase) (8.1.8)\n",
      "Requirement already satisfied: shellingham>=1.3.0 in ./venv/lib/python3.12/site-packages (from typer[all]->predibase) (1.5.4)\n",
      "Note: you may need to restart the kernel to use updated packages.\n"
     ]
    }
   ],
   "source": [
    "#pip install -U predibase"
   ]
  },
  {
   "cell_type": "code",
   "execution_count": 41,
   "metadata": {},
   "outputs": [
    {
     "data": {
      "text/html": [
       "<pre style=\"white-space:pre;overflow-x:auto;line-height:normal;font-family:Menlo,'DejaVu Sans Mono',consolas,'Courier New',monospace\"><span style=\"color: #000080; text-decoration-color: #000080; font-weight: bold\">Connected to Predibase as </span><span style=\"color: #800080; text-decoration-color: #800080; font-weight: bold\">User</span><span style=\"color: #000080; text-decoration-color: #000080; font-weight: bold\">(</span><span style=\"color: #808000; text-decoration-color: #808000; font-weight: bold\">id</span><span style=\"color: #000080; text-decoration-color: #000080; font-weight: bold\">=</span><span style=\"color: #ffff00; text-decoration-color: #ffff00\">bb77bdda</span><span style=\"color: #ffff00; text-decoration-color: #ffff00\">-4f97-4faa-a128-c549c8d64770</span><span style=\"color: #000080; text-decoration-color: #000080; font-weight: bold\">, </span><span style=\"color: #808000; text-decoration-color: #808000; font-weight: bold\">username</span><span style=\"color: #000080; text-decoration-color: #000080; font-weight: bold\">=</span><span style=\"color: #800080; text-decoration-color: #800080; font-weight: bold\">rifahathjavid1999</span><span style=\"color: #000080; text-decoration-color: #000080; font-weight: bold\">@gmail.com)</span>\n",
       "</pre>\n"
      ],
      "text/plain": [
       "\u001b[1;34mConnected to Predibase as \u001b[0m\u001b[1;35mUser\u001b[0m\u001b[1;34m(\u001b[0m\u001b[1;33mid\u001b[0m\u001b[1;34m=\u001b[0m\u001b[93mbb77bdda\u001b[0m\u001b[93m-4f97-4faa-a128-c549c8d64770\u001b[0m\u001b[1;34m, \u001b[0m\u001b[1;33musername\u001b[0m\u001b[1;34m=\u001b[0m\u001b[1;35mrifahathjavid1999\u001b[0m\u001b[1;34m@gmail.com\u001b[0m\u001b[1;34m)\u001b[0m\n"
      ]
     },
     "metadata": {},
     "output_type": "display_data"
    }
   ],
   "source": [
    "from predibase import Predibase, FinetuningConfig, DeploymentConfig\n",
    "\n",
    "pb = Predibase(api_token = \"pb_-21w1fmTXC6H-WWDumT7mA\")"
   ]
  },
  {
   "cell_type": "code",
   "execution_count": null,
   "metadata": {},
   "outputs": [],
   "source": [
    "lorax_client = pb.deployments.client(\"zephyr-7b-beta\")"
   ]
  },
  {
   "cell_type": "code",
   "execution_count": null,
   "metadata": {},
   "outputs": [],
   "source": []
  },
  {
   "cell_type": "code",
   "execution_count": null,
   "metadata": {},
   "outputs": [
    {
     "data": {
      "text/plain": [
       "Dataset({\n",
       "    features: ['flags', 'instruction', 'category', 'intent', 'response'],\n",
       "    num_rows: 26872\n",
       "})"
      ]
     },
     "execution_count": 43,
     "metadata": {},
     "output_type": "execute_result"
    }
   ],
   "source": [
    "from datasets import load_dataset\n",
    "\n",
    "dataset = load_dataset(\"Victorano/customer-support-training-dataset\", trust_remote_code=True)\n",
    "train_data = dataset['train']\n",
    "train_data"
   ]
  },
  {
   "cell_type": "code",
   "execution_count": null,
   "metadata": {},
   "outputs": [
    {
     "name": "stdout",
     "output_type": "stream",
     "text": [
      "Saved dataset to zephyr_dataset.jsonl\n"
     ]
    }
   ],
   "source": [
    "import json\n",
    "\n",
    "\n",
    "output_path = \"zephyr_dataset.jsonl\"\n",
    "\n",
    "with open(output_path, \"w\") as f:\n",
    "    for sample in train_data:\n",
    "        prompt = f\"<|user|>\\\\n {sample['instruction']} </s>\\\\n<|assistant|>\\\\n\"\n",
    "        completion = sample['response'].strip()\n",
    "        json.dump({\"prompt\": prompt, \"completion\": completion}, f)\n",
    "        f.write(\"\\n\")\n",
    "\n",
    "print(f\"Saved dataset to {output_path}\")"
   ]
  },
  {
   "cell_type": "code",
   "execution_count": null,
   "metadata": {},
   "outputs": [
    {
     "name": "stdout",
     "output_type": "stream",
     "text": [
      "Note: you may need to restart the kernel to use updated packages.\n"
     ]
    }
   ],
   "source": [
    "#pip install -q transformers -U"
   ]
  },
  {
   "cell_type": "code",
   "execution_count": 46,
   "metadata": {},
   "outputs": [],
   "source": [
    "repo = pb.repos.create(\n",
    "    name=\"customer-support\",\n",
    "    description=\"A Zephyr-7B-Beta fine-tuned model that provides polite and helpful responses to customer support queries.\",\n",
    "    exists_ok=True\n",
    ")\n"
   ]
  },
  {
   "cell_type": "code",
   "execution_count": 58,
   "metadata": {},
   "outputs": [],
   "source": [
    "dataset = pb.datasets.from_file(\"zephyr_dataset.jsonl\", name=\"zephyr_dataset\")\n",
    "#dataset = pb.upload_file('zephyr_dataset.jsonl', 'zephyr_dataset')"
   ]
  },
  {
   "cell_type": "code",
   "execution_count": 47,
   "metadata": {},
   "outputs": [],
   "source": [
    "config = FinetuningConfig(\n",
    "    base_model=\"Zephyr-7B-Beta\",\n",
    "    epochs=3,\n",
    "    rank=16,\n",
    "    target_modules=[\"q_proj\", \"k_proj\", \"v_proj\", \"o_proj\", \"gate_proj\", \"up_proj\", \"down_proj\"],\n",
    "    learning_rate=0.0002,\n",
    ")  # Remove the trailing comma\n",
    "\n",
    "\n"
   ]
  },
  {
   "cell_type": "code",
   "execution_count": 59,
   "metadata": {},
   "outputs": [
    {
     "name": "stdout",
     "output_type": "stream",
     "text": [
      "Successfully requested finetuning of Zephyr-7B-Beta from base as `customer-support/1`. (Job UUID: 8383d609-de28-47a5-bf20-6dc42e5879cb).\n",
      "\n",
      "Watching progress of finetuning job 8383d609-de28-47a5-bf20-6dc42e5879cb. This call will block until the job has finished. Canceling or terminating this call will NOT cancel or terminate the job itself.\n",
      "\n",
      "Job is starting. Total queue time: 0:09:06         \n",
      "Waiting to receive training metrics...\n",
      "\n",
      "┌────────────┬────────────┬─────────────────┐\n",
      "│ checkpoint \u001b[0m│ train_loss \u001b[0m│ validation_loss \u001b[0m│\n",
      "├────────────┼────────────┼─────────────────┤\n",
      "│     1      \u001b[0m│   0.5504   \u001b[0m│        --       \u001b[0m│\n",
      "│     2      \u001b[0m│   0.5296   \u001b[0m│        --       \u001b[0m│\n",
      "│     3      \u001b[0m│   0.4842   \u001b[0m│        --       \u001b[0m│\n",
      "│     4      \u001b[0m│   0.4950   \u001b[0m│        --       \u001b[0m│\n",
      "│     5      \u001b[0m│   0.5175   \u001b[0m│        --       \u001b[0m│\n",
      "│     6      \u001b[0m│   0.5011   \u001b[0m│        --       \u001b[0m│\n",
      "│     7      \u001b[0m│   0.4528   \u001b[0m│        --       \u001b[0m│\n",
      "│     8      \u001b[0m│   0.4571   \u001b[0m│        --       \u001b[0m│\n",
      "│ 848/1260 steps ■■■■■■■■■■■■■■■■■■□□□□□□□□ │"
     ]
    },
    {
     "name": "stderr",
     "output_type": "stream",
     "text": [
      "keepalive ping failed\n",
      "TimeoutError: timed out while closing connection\n",
      "\n",
      "The above exception was the direct cause of the following exception:\n",
      "\n",
      "Traceback (most recent call last):\n",
      "  File \"/Users/nvcdev01/Documents/fine tune -2/venv/lib/python3.12/site-packages/websockets/sync/connection.py\", line 777, in keepalive\n",
      "    with self.send_context():\n",
      "         ^^^^^^^^^^^^^^^^^^^\n",
      "  File \"/Users/nvcdev01/Documents/fine tune -2/venv/lib/python3.12/contextlib.py\", line 144, in __exit__\n",
      "    next(self.gen)\n",
      "  File \"/Users/nvcdev01/Documents/fine tune -2/venv/lib/python3.12/site-packages/websockets/sync/connection.py\", line 1012, in send_context\n",
      "    raise self.protocol.close_exc from original_exc\n",
      "websockets.exceptions.ConnectionClosedError: sent 1011 (internal error) keepalive ping timeout; no close frame received\n"
     ]
    },
    {
     "name": "stdout",
     "output_type": "stream",
     "text": [
      "│     9      \u001b[0m│   0.4451   \u001b[0m│        --       \u001b[0m│\n",
      "│     10     \u001b[0m│   0.4655   \u001b[0m│        --       \u001b[0m│\n",
      "│     11     \u001b[0m│   0.4172   \u001b[0m│        --       \u001b[0m│\n",
      "│     12     \u001b[0m│   0.4212   \u001b[0m│        --       \u001b[0m│\n",
      "│     13     \u001b[0m│   0.4022   \u001b[0m│        --       \u001b[0m│\n",
      "└────────────┴────────────┴─────────────────┘\n"
     ]
    }
   ],
   "source": [
    "adapter = pb.adapters.create(\n",
    "    config=config,\n",
    "    dataset=dataset,\n",
    "    repo=repo,\n",
    "    description=\"Adapter fine-tuning of Zephyr-7B-Beta for polite, helpful customer support chat.\",\n",
    ")"
   ]
  }
 ],
 "metadata": {
  "kernelspec": {
   "display_name": "Python 3",
   "language": "python",
   "name": "python3"
  },
  "language_info": {
   "codemirror_mode": {
    "name": "ipython",
    "version": 3
   },
   "file_extension": ".py",
   "mimetype": "text/x-python",
   "name": "python",
   "nbconvert_exporter": "python",
   "pygments_lexer": "ipython3",
   "version": "3.12.9"
  }
 },
 "nbformat": 4,
 "nbformat_minor": 2
}
